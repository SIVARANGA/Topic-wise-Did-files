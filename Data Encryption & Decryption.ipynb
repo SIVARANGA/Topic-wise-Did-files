{
 "cells": [
  {
   "cell_type": "code",
   "execution_count": null,
   "metadata": {},
   "outputs": [],
   "source": [
    "datafile=\"key1.txt\"\n",
    "def dataencryption(datafile):\n",
    "    with open(datafile,'w') as f:\n",
    "        \n",
    "        for i in range(10):\n",
    "            if i<6:\n",
    "                f.write(str(i)+\" \"+str(i+4)+\"\\n\")\n",
    "                print(str(i)+\" \"+str(i+4)+\"\\n\")\n",
    "            else:\n",
    "                f.write(str(i)+\" \"+str(i-6)+\"\\n\")\n",
    "                print(str(i)+\" \"+str(i-6)+\"\\n\")\n",
    "\n",
    "dataencryption(datafile)"
   ]
  },
  {
   "cell_type": "code",
   "execution_count": null,
   "metadata": {},
   "outputs": [],
   "source": [
    "# Second Program\n",
    "\n",
    "n=input(\"Enter the message\")\n",
    "k=6\n",
    "enc=\"\"\n",
    "for i in n:\n",
    "    if (ord(i)>=97 and ord(i)<=122):\n",
    "        new=(ord(i)+k)\n",
    "        if new>=122:\n",
    "            new=97+(new-122)\n",
    "            enc+=chr(new)\n",
    "        else:\n",
    "            enc+=chr(new)   \n",
    "    elif ord(i)>=65 and ord(i)<=90:\n",
    "        new1=(ord(i)+k)\n",
    "        if new1>=90:\n",
    "            new1=65+(new1-90)\n",
    "            enc+=chr(new1)\n",
    "        else:\n",
    "            enc+=chr(new1)\n",
    "                \n",
    "print(enc)"
   ]
  },
  {
   "cell_type": "code",
   "execution_count": null,
   "metadata": {},
   "outputs": [],
   "source": [
    "datafile=\"check.txt\"\n",
    "def uploaddata(datafile):\n",
    "    with open(datafile,\"w\") as f:\n",
    "        f.write(\"123 324 434 423 334 343 344\")\n",
    "        f.close()\n",
    "        \n",
    "uploaddata(datafile)\n",
    "\n",
    "data=\"check.txt\"\n",
    "def readdata(data):\n",
    "    with open(data,'r') as f:\n",
    "        f1=f.read().split()\n",
    "        for i in f1:\n",
    "            if int(i)>100:\n",
    "                print('A',end=\"\")        \n",
    "readdata(data)"
   ]
  },
  {
   "cell_type": "code",
   "execution_count": null,
   "metadata": {},
   "outputs": [],
   "source": [
    "data=\"data.txt\"\n",
    "with open(data,\"w\") as f:\n",
    "    for i in range(1,20):\n",
    "        if i<6:\n",
    "            print(str(i)+\" \"+str(i+4))\n",
    "        else:\n",
    "            print(str(i)+\" \"+str(i-6))\n",
    "f.close()\n",
    "                "
   ]
  },
  {
   "cell_type": "code",
   "execution_count": 3,
   "metadata": {},
   "outputs": [
    {
     "name": "stdout",
     "output_type": "stream",
     "text": [
      "Enter the messagezxcvbnm\n",
      "fdibhts\n"
     ]
    }
   ],
   "source": [
    "# First Program\n",
    "\n",
    "inp=input(\"Enter the message\")\n",
    "alp=\"abcdefghijklmnopqrstuvwxyz\"\n",
    "key=6\n",
    "enc=\"\"\n",
    "for i in inp:\n",
    "    pos=alp.find(i)\n",
    "    new_pos=(pos+key)%26\n",
    "    enc+=alp[new_pos]\n",
    "print(enc) "
   ]
  },
  {
   "cell_type": "markdown",
   "metadata": {},
   "source": [
    "### Data Encryption and Decryption\n"
   ]
  },
  {
   "cell_type": "code",
   "execution_count": 12,
   "metadata": {},
   "outputs": [
    {
     "name": "stdout",
     "output_type": "stream",
     "text": [
      "Enter the messagezxcv\n",
      "fdib"
     ]
    }
   ],
   "source": [
    "msg=input(\"Enter the message\")\n",
    "keyfile=\"abcdefghijklmnopqrstuvwxyz\"\n",
    "#print(len(keyfile))\n",
    "key=6\n",
    "enc=\"\"\n",
    "for i in msg:\n",
    "    pos=keyfile.find(i)\n",
    "    #print(pos)\n",
    "    new=(pos+key)%26\n",
    "    #enc+=keyfile[new]\n",
    "    \n",
    "    print(keyfile[new],end=\"\")"
   ]
  },
  {
   "cell_type": "code",
   "execution_count": 17,
   "metadata": {},
   "outputs": [
    {
     "name": "stdout",
     "output_type": "stream",
     "text": [
      "Enter the megasdfgh\n",
      "gyjlmn\n"
     ]
    }
   ],
   "source": [
    "msg=input(\"Enter the meg\")\n",
    "key=6\n",
    "enc=\"\"\n",
    "for i in msg:\n",
    "    if ord(i)>=97 and ord(i)<=122:\n",
    "        p=ord(i)+key\n",
    "        if p>122:\n",
    "            n=97+(p-122)\n",
    "            enc+=chr(n)\n",
    "        else:\n",
    "            enc+=chr(p)\n",
    "            \n",
    "print(enc)\n",
    "                "
   ]
  },
  {
   "cell_type": "code",
   "execution_count": 19,
   "metadata": {},
   "outputs": [],
   "source": [
    "key=\"key.txt\"\n",
    "with open(key,\"w\") as g:\n",
    "    for i in range(10):\n",
    "        if i<6:\n",
    "            g.write(str(i)+\" \"+str(i+4)+\"\\n\")\n",
    "        else:\n",
    "            g.write(str(i)+\" \"+str(i-6)+\"\\n\")\n",
    "                "
   ]
  },
  {
   "cell_type": "code",
   "execution_count": 33,
   "metadata": {},
   "outputs": [
    {
     "name": "stdout",
     "output_type": "stream",
     "text": [
      "{'0': '4', '1': '5', '2': '6', '3': '7', '4': '8', '5': '9', '6': '0', '7': '1', '8': '2', '9': '3'}\n"
     ]
    }
   ],
   "source": [
    "keyfile=\"key.txt\"\n",
    "def read_data(keyfile):\n",
    "    dict1={}\n",
    "    with open(keyfile,'r') as f:\n",
    "        for line in f:\n",
    "            #print(line)\n",
    "            h=line.split()\n",
    "            #print(h)\n",
    "            dict1[h[0]]=h[1]\n",
    "    print(dict1)\n",
    "    \n",
    "read_data(keyfile)\n",
    "            "
   ]
  },
  {
   "cell_type": "code",
   "execution_count": 36,
   "metadata": {},
   "outputs": [
    {
     "ename": "SyntaxError",
     "evalue": "invalid syntax (<ipython-input-36-8587dc692c65>, line 3)",
     "output_type": "error",
     "traceback": [
      "\u001b[1;36m  File \u001b[1;32m\"<ipython-input-36-8587dc692c65>\"\u001b[1;36m, line \u001b[1;32m3\u001b[0m\n\u001b[1;33m    for open(datafile,\"r\") as d:\u001b[0m\n\u001b[1;37m                            ^\u001b[0m\n\u001b[1;31mSyntaxError\u001b[0m\u001b[1;31m:\u001b[0m invalid syntax\n"
     ]
    }
   ],
   "source": [
    "def encrypt(datafile,keyfile):\n",
    "    with open('encrypt_data.txt','w') as e:\n",
    "        for open(datafile,\"r\") as d:\n",
    "            d=d.read().split(\"\\n\")\n",
    "        print(d)\n",
    "        enc=\"\"\n",
    "        for g in d:\n",
    "            n=dict1[g]\n",
    "            enc+=n\n",
    "    print(enc)\n",
    "    \n",
    "keyfile=\"key.txt\"\n",
    "datafile=\"marks.txt\"\n",
    "encrypt(datafile,keyfile)"
   ]
  },
  {
   "cell_type": "code",
   "execution_count": 38,
   "metadata": {},
   "outputs": [
    {
     "name": "stdout",
     "output_type": "stream",
     "text": [
      "{'0': '4', '1': '5', '2': '6', '3': '7', '4': '8', '5': '9', '6': '0', '7': '1', '8': '2', '9': '3'}\n",
      "None k\n",
      "['96', '45', '85', '12', '36']\n"
     ]
    },
    {
     "ename": "TypeError",
     "evalue": "'NoneType' object is not subscriptable",
     "output_type": "error",
     "traceback": [
      "\u001b[1;31m---------------------------------------------------------------------------\u001b[0m",
      "\u001b[1;31mTypeError\u001b[0m                                 Traceback (most recent call last)",
      "\u001b[1;32m<ipython-input-38-0a5fe2ab2ede>\u001b[0m in \u001b[0;36m<module>\u001b[1;34m\u001b[0m\n\u001b[0;32m     15\u001b[0m \u001b[0md\u001b[0m\u001b[1;33m=\u001b[0m\u001b[1;34m\"marks.txt\"\u001b[0m\u001b[1;33m\u001b[0m\u001b[1;33m\u001b[0m\u001b[0m\n\u001b[0;32m     16\u001b[0m \u001b[0mkey\u001b[0m\u001b[1;33m=\u001b[0m\u001b[1;34m\"key.txt\"\u001b[0m\u001b[1;33m\u001b[0m\u001b[1;33m\u001b[0m\u001b[0m\n\u001b[1;32m---> 17\u001b[1;33m \u001b[0mencrypt_data\u001b[0m\u001b[1;33m(\u001b[0m\u001b[0md\u001b[0m\u001b[1;33m,\u001b[0m\u001b[0mkey\u001b[0m\u001b[1;33m)\u001b[0m\u001b[1;33m\u001b[0m\u001b[1;33m\u001b[0m\u001b[0m\n\u001b[0m\u001b[0;32m     18\u001b[0m \u001b[1;33m\u001b[0m\u001b[0m\n",
      "\u001b[1;32m<ipython-input-38-0a5fe2ab2ede>\u001b[0m in \u001b[0;36mencrypt_data\u001b[1;34m(data, key)\u001b[0m\n\u001b[0;32m      8\u001b[0m         \u001b[0menc\u001b[0m\u001b[1;33m=\u001b[0m\u001b[1;34m\"\"\u001b[0m\u001b[1;33m\u001b[0m\u001b[1;33m\u001b[0m\u001b[0m\n\u001b[0;32m      9\u001b[0m         \u001b[1;32mfor\u001b[0m \u001b[0mi\u001b[0m \u001b[1;32min\u001b[0m \u001b[0ms\u001b[0m\u001b[1;33m:\u001b[0m\u001b[1;33m\u001b[0m\u001b[1;33m\u001b[0m\u001b[0m\n\u001b[1;32m---> 10\u001b[1;33m             \u001b[0menc\u001b[0m\u001b[1;33m+=\u001b[0m\u001b[0mk\u001b[0m\u001b[1;33m[\u001b[0m\u001b[0mi\u001b[0m\u001b[1;33m]\u001b[0m\u001b[1;33m\u001b[0m\u001b[1;33m\u001b[0m\u001b[0m\n\u001b[0m\u001b[0;32m     11\u001b[0m             \u001b[0mf\u001b[0m\u001b[1;33m.\u001b[0m\u001b[0mwrite\u001b[0m\u001b[1;33m(\u001b[0m\u001b[0menc\u001b[0m\u001b[1;33m+\u001b[0m\u001b[1;34m\"\\n\"\u001b[0m\u001b[1;33m)\u001b[0m\u001b[1;33m\u001b[0m\u001b[1;33m\u001b[0m\u001b[0m\n\u001b[0;32m     12\u001b[0m         \u001b[0mprint\u001b[0m\u001b[1;33m(\u001b[0m\u001b[0menc\u001b[0m\u001b[1;33m)\u001b[0m\u001b[1;33m\u001b[0m\u001b[1;33m\u001b[0m\u001b[0m\n",
      "\u001b[1;31mTypeError\u001b[0m: 'NoneType' object is not subscriptable"
     ]
    }
   ],
   "source": [
    "def encrypt_data(data,key):\n",
    "    k=read_data(key)\n",
    "    print(k,\"k\")\n",
    "    with open(data,'r') as r:\n",
    "        s=r.read().split('\\n')\n",
    "        print(s)\n",
    "    with open('encrypted.txt','w') as e:\n",
    "        enc=\"\"\n",
    "        for i in s:\n",
    "            enc+=k[i]\n",
    "            f.write(enc+\"\\n\")\n",
    "        print(enc)\n",
    "    e.close()\n",
    " \n",
    "d=\"marks.txt\"\n",
    "key=\"key.txt\"\n",
    "encrypt_data(d,key)\n",
    "    "
   ]
  },
  {
   "cell_type": "code",
   "execution_count": 11,
   "metadata": {},
   "outputs": [],
   "source": [
    "keyfile=\"key.txt\"\n",
    "def dictonary_key(keyfile):\n",
    "    dict1={}\n",
    "    with open(keyfile,'r') as f:\n",
    "        for line in f:\n",
    "            k=line.split()\n",
    "            dict1[k[0]]=k[1]\n",
    "    return dict1\n",
    "    \n",
    "def encrypted(datafile,keyfile):\n",
    "    key=dictonary_key(keyfile)\n",
    "    with open(datafile,'r') as m:\n",
    "        h=m.read().split(\"\\n\")\n",
    "        \n",
    "    with open(\"encrypted.txt\",'w') as e:\n",
    "        for t in h:\n",
    "            enc=\"\"\n",
    "            for j in t:\n",
    "                enc+=key[j]\n",
    "                e.write(enc+'\\n')\n",
    "    #print(enc)\n",
    "datafile=\"marks.txt\"\n",
    "encrypted(datafile,keyfile)\n",
    "        "
   ]
  },
  {
   "cell_type": "code",
   "execution_count": 9,
   "metadata": {},
   "outputs": [],
   "source": [
    "keyfile = 'key.txt'\n",
    "def dictionaryKeyFile(keyfile):\n",
    "    key = {}\n",
    "    with open(keyfile, 'r') as f:\n",
    "        for line in f:\n",
    "            line = line.split()\n",
    "            key[line[0]] = line[1]\n",
    "    return key\n",
    "def encryptMarksData(datafile, keyfile):\n",
    "#construct a dictionary for key data\n",
    "    key = dictionaryKeyFile(keyfile)\n",
    "    with open(datafile, 'r') as f:\n",
    "        filedata = f.read().split('\\n')\n",
    "    with open('encryptedMarks.txt', 'w') as f:\n",
    "        for mark in filedata:\n",
    "            line = ''\n",
    "            for n in mark:\n",
    "                line += key[n]\n",
    "            f.write(line+'\\n')\n",
    "    return\n",
    "datafile = 'marks.txt'\n",
    "encryptMarksData(datafile, keyfile)"
   ]
  },
  {
   "cell_type": "code",
   "execution_count": 14,
   "metadata": {},
   "outputs": [],
   "source": [
    "keyfile='key.txt'\n",
    "def decrypted_data(encryptedMarks,keyfile):\n",
    "    key=dictionaryKeyFile(keyfile)\n",
    "    newkey={}\n",
    "    for key1,value in key.items():\n",
    "        newkey[value]=key1\n",
    "        \n",
    "    with open(encryptedMarks,'r') as e:\n",
    "        g=e.read().split('\\n')\n",
    "        \n",
    "    with open(\"decrypted.txt\",'w') as d:\n",
    "        for i in g:\n",
    "            line=\"\"\n",
    "            for j in i:\n",
    "                line+=newkey[j]\n",
    "            d.write(line+\"\\n\")\n",
    "    return \n",
    "encryptedMarks=\"encryptedMarks.txt\"\n",
    "decrypted_data(encryptedMarks,keyfile)\n"
   ]
  },
  {
   "cell_type": "code",
   "execution_count": null,
   "metadata": {},
   "outputs": [],
   "source": [
    "def decryptMarksData(encryptedfile, keyfile):\n",
    "    key = dictionaryKeyFile(keyfile)\n",
    "    newkey = {}\n",
    "    for key, value in key.items():\n",
    "        newkey[value] = key\n",
    "    with open(encryptedfile, 'r') as f:\n",
    "        encrypteddata = f.read().split('\\n')\n",
    "    with open('DataFiles/decryptedMarks.txt', 'w') as f:\n",
    "        for encryptedmark in encrypteddata:\n",
    "            line = ''\n",
    "        for n in encryptedmark:\n",
    "            line += newkey[n]\n",
    "            f.write(line + '\\n')\n",
    "    return\n",
    "encryptedfile = 'DataFiles/encryptedMarks.txt'"
   ]
  }
 ],
 "metadata": {
  "kernelspec": {
   "display_name": "Python 3",
   "language": "python",
   "name": "python3"
  },
  "language_info": {
   "codemirror_mode": {
    "name": "ipython",
    "version": 3
   },
   "file_extension": ".py",
   "mimetype": "text/x-python",
   "name": "python",
   "nbconvert_exporter": "python",
   "pygments_lexer": "ipython3",
   "version": "3.7.3"
  }
 },
 "nbformat": 4,
 "nbformat_minor": 2
}
