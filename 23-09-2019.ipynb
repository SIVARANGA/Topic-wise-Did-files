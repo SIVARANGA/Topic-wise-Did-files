{
 "cells": [
  {
   "cell_type": "code",
   "execution_count": 35,
   "metadata": {
    "scrolled": true
   },
   "outputs": [
    {
     "name": "stdout",
     "output_type": "stream",
     "text": [
      "0 4\n",
      "\n",
      "1 5\n",
      "\n",
      "2 6\n",
      "\n",
      "3 7\n",
      "\n",
      "4 8\n",
      "\n",
      "5 9\n",
      "\n",
      "6 0\n",
      "\n",
      "7 1\n",
      "\n",
      "8 2\n",
      "\n",
      "9 3\n",
      "\n"
     ]
    }
   ],
   "source": [
    "datafile=\"key1.txt\"\n",
    "def dataencryption(datafile):\n",
    "    with open(datafile,'w') as f:\n",
    "        \n",
    "        for i in range(10):\n",
    "            if i<6:\n",
    "                f.write(str(i)+\" \"+str(i+4)+\"\\n\")\n",
    "                print(str(i)+\" \"+str(i+4)+\"\\n\")\n",
    "            else:\n",
    "                f.write(str(i)+\" \"+str(i-6)+\"\\n\")\n",
    "                print(str(i)+\" \"+str(i-6)+\"\\n\")\n",
    "\n",
    "dataencryption(datafile)\n",
    "            \n",
    "    "
   ]
  },
  {
   "cell_type": "code",
   "execution_count": null,
   "metadata": {},
   "outputs": [],
   "source": []
  },
  {
   "cell_type": "code",
   "execution_count": null,
   "metadata": {},
   "outputs": [],
   "source": [
    "keyfile = 'key.txt'\n",
    "def dictionaryKeyFile(keyfile):\n",
    "    key = {}\n",
    "    with open(keyfile, 'r') as f:\n",
    "        for line in f:\n",
    "        line = line.split()\n",
    "        key[line[0]] = line[1]\n",
    "        return key\n",
    "def encryptMarksData(datafile, keyfile):\n",
    "#construct a dictionary for key data\n",
    "    key = dictionaryKeyFile(keyfile)\n",
    "    with open(datafile, 'r') as f:\n",
    "    filedata = f.read().split('\\n')\n",
    "    with open('DataFiles/encryptedMarks.txt', 'w') as f:\n",
    "    for mark in filedata:\n",
    "    line = ''\n",
    "    for n in mark:\n",
    "    line += key[n]\n",
    "    f.write(line+'\\n')\n",
    "    return\n",
    "datafile = 'DataFiles/marks.txt'\n",
    "encryptMarksData(datafile, keyfile)"
   ]
  },
  {
   "cell_type": "code",
   "execution_count": 26,
   "metadata": {},
   "outputs": [
    {
     "ename": "IndexError",
     "evalue": "list index out of range",
     "output_type": "error",
     "traceback": [
      "\u001b[1;31m---------------------------------------------------------------------------\u001b[0m",
      "\u001b[1;31mIndexError\u001b[0m                                Traceback (most recent call last)",
      "\u001b[1;32m<ipython-input-26-6bfbe8549d24>\u001b[0m in \u001b[0;36m<module>\u001b[1;34m\u001b[0m\n\u001b[0;32m     11\u001b[0m             \u001b[0mkey\u001b[0m\u001b[1;33m[\u001b[0m\u001b[0mlin\u001b[0m\u001b[1;33m[\u001b[0m\u001b[1;36m0\u001b[0m\u001b[1;33m]\u001b[0m\u001b[1;33m]\u001b[0m \u001b[1;33m=\u001b[0m \u001b[0mlin\u001b[0m\u001b[1;33m[\u001b[0m\u001b[1;36m1\u001b[0m\u001b[1;33m]\u001b[0m\u001b[1;33m\u001b[0m\u001b[1;33m\u001b[0m\u001b[0m\n\u001b[0;32m     12\u001b[0m     \u001b[0mprint\u001b[0m\u001b[1;33m(\u001b[0m \u001b[0mkey\u001b[0m\u001b[1;33m)\u001b[0m\u001b[1;33m\u001b[0m\u001b[1;33m\u001b[0m\u001b[0m\n\u001b[1;32m---> 13\u001b[1;33m \u001b[0mdictionaryKeyFile\u001b[0m\u001b[1;33m(\u001b[0m\u001b[0mkeyfile\u001b[0m\u001b[1;33m)\u001b[0m\u001b[1;33m\u001b[0m\u001b[1;33m\u001b[0m\u001b[0m\n\u001b[0m",
      "\u001b[1;32m<ipython-input-26-6bfbe8549d24>\u001b[0m in \u001b[0;36mdictionaryKeyFile\u001b[1;34m(keyfile)\u001b[0m\n\u001b[0;32m      9\u001b[0m             \u001b[1;31m#print(lin[0])\u001b[0m\u001b[1;33m\u001b[0m\u001b[1;33m\u001b[0m\u001b[1;33m\u001b[0m\u001b[0m\n\u001b[0;32m     10\u001b[0m             \u001b[1;31m#print(lin[1])\u001b[0m\u001b[1;33m\u001b[0m\u001b[1;33m\u001b[0m\u001b[1;33m\u001b[0m\u001b[0m\n\u001b[1;32m---> 11\u001b[1;33m             \u001b[0mkey\u001b[0m\u001b[1;33m[\u001b[0m\u001b[0mlin\u001b[0m\u001b[1;33m[\u001b[0m\u001b[1;36m0\u001b[0m\u001b[1;33m]\u001b[0m\u001b[1;33m]\u001b[0m \u001b[1;33m=\u001b[0m \u001b[0mlin\u001b[0m\u001b[1;33m[\u001b[0m\u001b[1;36m1\u001b[0m\u001b[1;33m]\u001b[0m\u001b[1;33m\u001b[0m\u001b[1;33m\u001b[0m\u001b[0m\n\u001b[0m\u001b[0;32m     12\u001b[0m     \u001b[0mprint\u001b[0m\u001b[1;33m(\u001b[0m \u001b[0mkey\u001b[0m\u001b[1;33m)\u001b[0m\u001b[1;33m\u001b[0m\u001b[1;33m\u001b[0m\u001b[0m\n\u001b[0;32m     13\u001b[0m \u001b[0mdictionaryKeyFile\u001b[0m\u001b[1;33m(\u001b[0m\u001b[0mkeyfile\u001b[0m\u001b[1;33m)\u001b[0m\u001b[1;33m\u001b[0m\u001b[1;33m\u001b[0m\u001b[0m\n",
      "\u001b[1;31mIndexError\u001b[0m: list index out of range"
     ]
    }
   ],
   "source": [
    "keyfile = 'key.txt'\n",
    "def dictionaryKeyFile(keyfile):\n",
    "    key = {}\n",
    "    with open(keyfile, 'r') as f:\n",
    "        for line in f:\n",
    "            #print(line)\n",
    "            lin = line.split(\" \")\n",
    "            #print(lin)\n",
    "            #print(lin[0])\n",
    "            #print(lin[1])\n",
    "            key[lin[0]] = lin[1]\n",
    "    print( key)\n",
    "dictionaryKeyFile(keyfile)"
   ]
  },
  {
   "cell_type": "code",
   "execution_count": 27,
   "metadata": {},
   "outputs": [],
   "source": [
    "datafile=\"check.txt\"\n",
    "def uploaddata(datafile):\n",
    "    with open(datafile,\"w\") as f:\n",
    "        f.write(\"123 324 434 423 334 343 344\")\n",
    "        f.close()\n",
    "        \n",
    "uploaddata(datafile)        "
   ]
  },
  {
   "cell_type": "code",
   "execution_count": 37,
   "metadata": {},
   "outputs": [
    {
     "name": "stdout",
     "output_type": "stream",
     "text": [
      "AAAAAAA"
     ]
    }
   ],
   "source": [
    "data=\"check.txt\"\n",
    "def readdata(data):\n",
    "    with open(data,'r') as f:\n",
    "        f1=f.read().split()\n",
    "        for i in f1:\n",
    "            if int(i)>100:\n",
    "                print('A',end=\"\")        \n",
    "readdata(data)"
   ]
  },
  {
   "cell_type": "code",
   "execution_count": 8,
   "metadata": {},
   "outputs": [
    {
     "name": "stdout",
     "output_type": "stream",
     "text": [
      "Enter the messageranga\n",
      "ajwpj\n"
     ]
    }
   ],
   "source": [
    "inp=input(\"Enter the message\")\n",
    "alp=\"abcdefghijklmnopqrstuvwxyz\"\n",
    "key=9\n",
    "enc=\"\"\n",
    "for i in inp:\n",
    "    pos=alp.find(i)\n",
    "    new_pos=(pos+key)%26\n",
    "    enc+=alp[new_pos]\n",
    "print(enc) \n",
    "    \n",
    "    \n"
   ]
  },
  {
   "cell_type": "code",
   "execution_count": 28,
   "metadata": {},
   "outputs": [
    {
     "name": "stdout",
     "output_type": "stream",
     "text": [
      "Enter the messagez\n",
      "g\n"
     ]
    }
   ],
   "source": [
    "n=input(\"Enter the message\")\n",
    "k=6\n",
    "enc=\"\"\n",
    "for i in n:\n",
    "    if (ord(i)>=97 and ord(i)<=122):\n",
    "        new=(ord(i)+k)\n",
    "        if new>=122:\n",
    "            new=97+(new-122)\n",
    "            enc+=chr(new)\n",
    "        else:\n",
    "            enc+=chr(new)   \n",
    "    elif ord(i)>=65 and ord(i)<=90:\n",
    "        new1=(ord(i)+k)\n",
    "        if new1>=90:\n",
    "            new1=65+(new1-90)\n",
    "            enc+=chr(new1)\n",
    "        else:\n",
    "            enc+=chr(new1)\n",
    "                \n",
    "print(enc)"
   ]
  },
  {
   "cell_type": "code",
   "execution_count": 32,
   "metadata": {},
   "outputs": [
    {
     "name": "stdout",
     "output_type": "stream",
     "text": [
      "1 5\n",
      "2 6\n",
      "3 7\n",
      "4 8\n",
      "5 9\n",
      "6 0\n",
      "7 1\n",
      "8 2\n",
      "9 3\n",
      "10 4\n",
      "11 5\n",
      "12 6\n",
      "13 7\n",
      "14 8\n",
      "15 9\n",
      "16 10\n",
      "17 11\n",
      "18 12\n",
      "19 13\n"
     ]
    }
   ],
   "source": [
    "data=\"data.txt\"\n",
    "with open(data,\"w\") as f:\n",
    "    for i in range(1,20):\n",
    "        if i<6:\n",
    "            print(str(i)+\" \"+str(i+4))\n",
    "        else:\n",
    "            print(str(i)+\" \"+str(i-6))\n",
    "f.close()\n",
    "                "
   ]
  },
  {
   "cell_type": "code",
   "execution_count": null,
   "metadata": {},
   "outputs": [],
   "source": []
  }
 ],
 "metadata": {
  "kernelspec": {
   "display_name": "Python 3",
   "language": "python",
   "name": "python3"
  },
  "language_info": {
   "codemirror_mode": {
    "name": "ipython",
    "version": 3
   },
   "file_extension": ".py",
   "mimetype": "text/x-python",
   "name": "python",
   "nbconvert_exporter": "python",
   "pygments_lexer": "ipython3",
   "version": "3.7.3"
  }
 },
 "nbformat": 4,
 "nbformat_minor": 2
}
