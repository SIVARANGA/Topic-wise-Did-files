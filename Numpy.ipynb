{
 "cells": [
  {
   "cell_type": "code",
   "execution_count": 3,
   "metadata": {},
   "outputs": [
    {
     "name": "stdout",
     "output_type": "stream",
     "text": [
      "[ 1  2  8  9 10 11]\n",
      "<class 'numpy.ndarray'>\n"
     ]
    }
   ],
   "source": [
    "import numpy as np\n",
    "\n",
    "ar=np.array([1,2,8,9,10,11])\n",
    "\n",
    "print(ar)\n",
    "\n",
    "print(type(ar))"
   ]
  },
  {
   "cell_type": "code",
   "execution_count": 4,
   "metadata": {},
   "outputs": [
    {
     "name": "stdout",
     "output_type": "stream",
     "text": [
      "[[1 2 3 4]\n",
      " [4 5 6 7]]\n"
     ]
    }
   ],
   "source": [
    "ar2=np.array([[1,2,3,4],[4,5,6,7]])\n",
    "\n",
    "print(ar2)"
   ]
  },
  {
   "cell_type": "code",
   "execution_count": 7,
   "metadata": {},
   "outputs": [
    {
     "data": {
      "text/plain": [
       "[2, 10, 24, 49, 72]"
      ]
     },
     "execution_count": 7,
     "metadata": {},
     "output_type": "execute_result"
    }
   ],
   "source": [
    "list1=[1,2,4,7,8]\n",
    "list2=[2,5,6,7,9]\n",
    "\n",
    "prod=list(map(lambda x,y:x*y ,list1,list2))\n",
    "\n",
    "prod"
   ]
  },
  {
   "cell_type": "code",
   "execution_count": 8,
   "metadata": {},
   "outputs": [
    {
     "name": "stdout",
     "output_type": "stream",
     "text": [
      "[ 2 10 24 49 72]\n"
     ]
    }
   ],
   "source": [
    "arr1=np.array(list1)\n",
    "arr2=np.array(list2)\n",
    "\n",
    "pr=arr1*arr2\n",
    "print(pr)"
   ]
  },
  {
   "cell_type": "code",
   "execution_count": 12,
   "metadata": {},
   "outputs": [
    {
     "data": {
      "text/plain": [
       "array([ 1,  4, 16, 49, 64], dtype=int32)"
      ]
     },
     "execution_count": 12,
     "metadata": {},
     "output_type": "execute_result"
    }
   ],
   "source": [
    "sq_list=[i**2 for i in list1]\n",
    "\n",
    "sq=arr1**2\n",
    "\n",
    "sq"
   ]
  },
  {
   "cell_type": "code",
   "execution_count": 14,
   "metadata": {},
   "outputs": [
    {
     "data": {
      "text/plain": [
       "array([[1, 1, 1, 1, 1],\n",
       "       [1, 1, 1, 1, 1],\n",
       "       [1, 1, 1, 1, 1]])"
      ]
     },
     "execution_count": 14,
     "metadata": {},
     "output_type": "execute_result"
    }
   ],
   "source": [
    "np.ones([3,5],dtype=int)"
   ]
  },
  {
   "cell_type": "code",
   "execution_count": 16,
   "metadata": {},
   "outputs": [
    {
     "data": {
      "text/plain": [
       "array([[0, 0, 0, 0],\n",
       "       [0, 0, 0, 0],\n",
       "       [0, 0, 0, 0],\n",
       "       [0, 0, 0, 0],\n",
       "       [0, 0, 0, 0],\n",
       "       [0, 0, 0, 0]])"
      ]
     },
     "execution_count": 16,
     "metadata": {},
     "output_type": "execute_result"
    }
   ],
   "source": [
    "np.zeros([6,4],dtype=int)"
   ]
  },
  {
   "cell_type": "code",
   "execution_count": 20,
   "metadata": {},
   "outputs": [
    {
     "data": {
      "text/plain": [
       "array([[0.42365604, 0.20399105, 0.78434   , 0.71029448, 0.48993425],\n",
       "       [0.2207626 , 0.73589193, 0.65938935, 0.31740342, 0.9549844 ],\n",
       "       [0.77624091, 0.13461087, 0.43481863, 0.54709587, 0.70400688],\n",
       "       [0.90091897, 0.63180301, 0.1508393 , 0.62082429, 0.59889904],\n",
       "       [0.70281009, 0.54109325, 0.8979225 , 0.72075285, 0.36870845]])"
      ]
     },
     "execution_count": 20,
     "metadata": {},
     "output_type": "execute_result"
    }
   ],
   "source": [
    "np.random.random([5,5])"
   ]
  },
  {
   "cell_type": "code",
   "execution_count": 21,
   "metadata": {},
   "outputs": [
    {
     "data": {
      "text/plain": [
       "array([0, 1, 2, 3, 4, 5, 6, 7, 8, 9])"
      ]
     },
     "execution_count": 21,
     "metadata": {},
     "output_type": "execute_result"
    }
   ],
   "source": [
    "np.arange(10)"
   ]
  },
  {
   "cell_type": "code",
   "execution_count": 27,
   "metadata": {},
   "outputs": [
    {
     "data": {
      "text/plain": [
       "array([ 1.        ,  1.47368421,  1.94736842,  2.42105263,  2.89473684,\n",
       "        3.36842105,  3.84210526,  4.31578947,  4.78947368,  5.26315789,\n",
       "        5.73684211,  6.21052632,  6.68421053,  7.15789474,  7.63157895,\n",
       "        8.10526316,  8.57894737,  9.05263158,  9.52631579, 10.        ])"
      ]
     },
     "execution_count": 27,
     "metadata": {},
     "output_type": "execute_result"
    }
   ],
   "source": [
    "np.linspace(1,10,20)"
   ]
  },
  {
   "cell_type": "code",
   "execution_count": 31,
   "metadata": {},
   "outputs": [
    {
     "data": {
      "text/plain": [
       "array([[20, 20, 20, 20, 20],\n",
       "       [20, 20, 20, 20, 20],\n",
       "       [20, 20, 20, 20, 20],\n",
       "       [20, 20, 20, 20, 20]])"
      ]
     },
     "execution_count": 31,
     "metadata": {},
     "output_type": "execute_result"
    }
   ],
   "source": [
    "np.full([4,5],20)"
   ]
  },
  {
   "cell_type": "code",
   "execution_count": 32,
   "metadata": {},
   "outputs": [
    {
     "data": {
      "text/plain": [
       "array([1, 2, 3, 1, 2, 3, 1, 2, 3])"
      ]
     },
     "execution_count": 32,
     "metadata": {},
     "output_type": "execute_result"
    }
   ],
   "source": [
    "np.tile([1,2,3],3)"
   ]
  },
  {
   "cell_type": "code",
   "execution_count": 33,
   "metadata": {},
   "outputs": [
    {
     "data": {
      "text/plain": [
       "array([[1, 4, 7, 1, 4, 7, 1, 4, 7],\n",
       "       [1, 4, 7, 1, 4, 7, 1, 4, 7]])"
      ]
     },
     "execution_count": 33,
     "metadata": {},
     "output_type": "execute_result"
    }
   ],
   "source": [
    "np.tile([1,4,7],[2,3])"
   ]
  },
  {
   "cell_type": "code",
   "execution_count": 34,
   "metadata": {},
   "outputs": [
    {
     "data": {
      "text/plain": [
       "array([[1, 4, 7, 1, 4, 7, 1, 4, 7],\n",
       "       [1, 4, 7, 1, 4, 7, 1, 4, 7]])"
      ]
     },
     "execution_count": 34,
     "metadata": {},
     "output_type": "execute_result"
    }
   ],
   "source": [
    "np.tile([1,4,7],(2,3))"
   ]
  },
  {
   "cell_type": "code",
   "execution_count": 35,
   "metadata": {},
   "outputs": [
    {
     "data": {
      "text/plain": [
       "array([[1., 0., 0.],\n",
       "       [0., 1., 0.],\n",
       "       [0., 0., 1.]])"
      ]
     },
     "execution_count": 35,
     "metadata": {},
     "output_type": "execute_result"
    }
   ],
   "source": [
    "np.eye(3)"
   ]
  },
  {
   "cell_type": "code",
   "execution_count": 36,
   "metadata": {},
   "outputs": [
    {
     "data": {
      "text/plain": [
       "array([[1, 0, 0],\n",
       "       [0, 1, 0],\n",
       "       [0, 0, 1]])"
      ]
     },
     "execution_count": 36,
     "metadata": {},
     "output_type": "execute_result"
    }
   ],
   "source": [
    "np.eye(3,dtype=int)"
   ]
  },
  {
   "cell_type": "code",
   "execution_count": 38,
   "metadata": {},
   "outputs": [
    {
     "data": {
      "text/plain": [
       "array([[0.85354301, 0.20898775, 0.91576165, 0.29599977],\n",
       "       [0.85979605, 0.71669567, 0.69678502, 0.57652481],\n",
       "       [0.0652904 , 0.75478617, 0.54961914, 0.80528193]])"
      ]
     },
     "execution_count": 38,
     "metadata": {},
     "output_type": "execute_result"
    }
   ],
   "source": [
    "np.random.random([3,4])"
   ]
  },
  {
   "cell_type": "code",
   "execution_count": 39,
   "metadata": {},
   "outputs": [
    {
     "data": {
      "text/plain": [
       "array([[7, 1, 9],\n",
       "       [6, 1, 3],\n",
       "       [4, 2, 2]])"
      ]
     },
     "execution_count": 39,
     "metadata": {},
     "output_type": "execute_result"
    }
   ],
   "source": [
    "np.random.randint(1,10,(3,3))"
   ]
  },
  {
   "cell_type": "code",
   "execution_count": 41,
   "metadata": {},
   "outputs": [
    {
     "data": {
      "text/plain": [
       "array([[0.75169874, 0.39145535, 0.08922585, 0.34817459, 0.30059482,\n",
       "        0.40937897, 0.99515197, 0.9142776 , 0.30457164, 0.25607044,\n",
       "        0.01411641, 0.67116502, 0.81531542, 0.51713531, 0.23164978,\n",
       "        0.83768828, 0.24722603, 0.52308703, 0.50871181, 0.49643992],\n",
       "       [0.71540261, 0.29437528, 0.45055665, 0.248158  , 0.30937339,\n",
       "        0.58837265, 0.2524866 , 0.72642645, 0.70219693, 0.24579202,\n",
       "        0.20515034, 0.88857035, 0.58617237, 0.70461489, 0.42314287,\n",
       "        0.29773612, 0.97615571, 0.97482915, 0.36153179, 0.68467507],\n",
       "       [0.9455657 , 0.59985062, 0.38504234, 0.37380749, 0.16099269,\n",
       "        0.45022305, 0.83971467, 0.35140443, 0.1176855 , 0.0422357 ,\n",
       "        0.15340173, 0.80287102, 0.05290942, 0.62679974, 0.61112785,\n",
       "        0.20068164, 0.12152354, 0.76763385, 0.62138789, 0.20018121],\n",
       "       [0.84866188, 0.95371423, 0.74302258, 0.53417713, 0.24845574,\n",
       "        0.08240086, 0.03662599, 0.67715697, 0.73277146, 0.64730188,\n",
       "        0.00762158, 0.44805399, 0.56140694, 0.40923394, 0.46809787,\n",
       "        0.8999526 , 0.34750248, 0.91075769, 0.89631319, 0.9725589 ],\n",
       "       [0.3028967 , 0.51853657, 0.9083121 , 0.30318955, 0.35327355,\n",
       "        0.09528038, 0.31552387, 0.31848639, 0.10253546, 0.70694407,\n",
       "        0.77905999, 0.52488578, 0.61315584, 0.19869546, 0.58805367,\n",
       "        0.37010446, 0.37312688, 0.90972202, 0.48220933, 0.60323144],\n",
       "       [0.09994226, 0.95179391, 0.86193061, 0.50926587, 0.65478313,\n",
       "        0.77152108, 0.72328079, 0.39667177, 0.36281121, 0.89305046,\n",
       "        0.03598859, 0.10380793, 0.68819025, 0.58707324, 0.69263123,\n",
       "        0.82283789, 0.52014845, 0.73879454, 0.79519092, 0.37601058],\n",
       "       [0.29904478, 0.75282758, 0.45845911, 0.94110584, 0.04473033,\n",
       "        0.47772585, 0.996939  , 0.52844829, 0.05597413, 0.45603911,\n",
       "        0.21597149, 0.49123384, 0.58301712, 0.94817319, 0.12444902,\n",
       "        0.40594243, 0.32952061, 0.57535951, 0.1857498 , 0.79551378],\n",
       "       [0.89548238, 0.14316236, 0.35441046, 0.65305265, 0.76270764,\n",
       "        0.40797452, 0.31482775, 0.56964801, 0.46229473, 0.22071562,\n",
       "        0.52332604, 0.14718751, 0.89067908, 0.09792154, 0.26731938,\n",
       "        0.11215941, 0.87897288, 0.40939738, 0.61387151, 0.27267624],\n",
       "       [0.44234945, 0.57067015, 0.38458875, 0.37781635, 0.62728722,\n",
       "        0.78296826, 0.55332768, 0.56957338, 0.37499583, 0.08144176,\n",
       "        0.32092222, 0.62250094, 0.39846086, 0.21983714, 0.11120603,\n",
       "        0.25935104, 0.45432369, 0.22393864, 0.41043177, 0.58997031],\n",
       "       [0.2160982 , 0.573224  , 0.16426717, 0.4976411 , 0.66529509,\n",
       "        0.39781108, 0.6395258 , 0.20831353, 0.50789246, 0.94196811,\n",
       "        0.18115834, 0.9975368 , 0.57830527, 0.58288048, 0.54171451,\n",
       "        0.61993015, 0.44984619, 0.36233003, 0.19647783, 0.39224953]])"
      ]
     },
     "execution_count": 41,
     "metadata": {},
     "output_type": "execute_result"
    }
   ],
   "source": [
    "n=np.random.random([10,20])\n",
    "n"
   ]
  },
  {
   "cell_type": "code",
   "execution_count": 47,
   "metadata": {},
   "outputs": [
    {
     "name": "stdout",
     "output_type": "stream",
     "text": [
      "shape: (10, 20)\n",
      "data type: float64\n",
      "dimen: 2\n",
      "size: 8\n"
     ]
    }
   ],
   "source": [
    "print(\"shape: {}\".format(n.shape))\n",
    "print(\"data type: {}\".format(n.dtype))\n",
    "print(\"dimen: {}\".format(n.ndim))\n",
    "print(\"size: {}\".format(n.itemsize))"
   ]
  },
  {
   "cell_type": "code",
   "execution_count": 49,
   "metadata": {},
   "outputs": [
    {
     "data": {
      "text/plain": [
       "array([[[ 0,  1],\n",
       "        [ 2,  3],\n",
       "        [ 4,  5],\n",
       "        [ 6,  7]],\n",
       "\n",
       "       [[ 8,  9],\n",
       "        [10, 11],\n",
       "        [12, 13],\n",
       "        [14, 15]],\n",
       "\n",
       "       [[16, 17],\n",
       "        [18, 19],\n",
       "        [20, 21],\n",
       "        [22, 23]],\n",
       "\n",
       "       [[24, 25],\n",
       "        [26, 27],\n",
       "        [28, 29],\n",
       "        [30, 31]]])"
      ]
     },
     "execution_count": 49,
     "metadata": {},
     "output_type": "execute_result"
    }
   ],
   "source": [
    "m=np.arange(32).reshape(4,4,2)\n",
    "\n",
    "m"
   ]
  },
  {
   "cell_type": "code",
   "execution_count": 50,
   "metadata": {},
   "outputs": [
    {
     "data": {
      "text/plain": [
       "array([0, 1, 2, 3, 4, 5, 6, 7, 8, 9])"
      ]
     },
     "execution_count": 50,
     "metadata": {},
     "output_type": "execute_result"
    }
   ],
   "source": [
    "k=np.arange(10)\n",
    "\n",
    "k"
   ]
  },
  {
   "cell_type": "code",
   "execution_count": 51,
   "metadata": {},
   "outputs": [
    {
     "data": {
      "text/plain": [
       "array([2, 3, 4, 5, 6, 7, 8, 9])"
      ]
     },
     "execution_count": 51,
     "metadata": {},
     "output_type": "execute_result"
    }
   ],
   "source": [
    "k[2:]"
   ]
  },
  {
   "cell_type": "code",
   "execution_count": 52,
   "metadata": {},
   "outputs": [
    {
     "data": {
      "text/plain": [
       "array([0, 1, 2])"
      ]
     },
     "execution_count": 52,
     "metadata": {},
     "output_type": "execute_result"
    }
   ],
   "source": [
    "k[:3]"
   ]
  },
  {
   "cell_type": "code",
   "execution_count": 53,
   "metadata": {},
   "outputs": [
    {
     "data": {
      "text/plain": [
       "array([0, 2, 4, 6, 8])"
      ]
     },
     "execution_count": 53,
     "metadata": {},
     "output_type": "execute_result"
    }
   ],
   "source": [
    "k[::2]"
   ]
  },
  {
   "cell_type": "code",
   "execution_count": 54,
   "metadata": {},
   "outputs": [
    {
     "data": {
      "text/plain": [
       "array([2, 5, 8])"
      ]
     },
     "execution_count": 54,
     "metadata": {},
     "output_type": "execute_result"
    }
   ],
   "source": [
    "k[2::3]"
   ]
  },
  {
   "cell_type": "code",
   "execution_count": null,
   "metadata": {},
   "outputs": [],
   "source": []
  }
 ],
 "metadata": {
  "kernelspec": {
   "display_name": "Python 3",
   "language": "python",
   "name": "python3"
  },
  "language_info": {
   "codemirror_mode": {
    "name": "ipython",
    "version": 3
   },
   "file_extension": ".py",
   "mimetype": "text/x-python",
   "name": "python",
   "nbconvert_exporter": "python",
   "pygments_lexer": "ipython3",
   "version": "3.7.3"
  }
 },
 "nbformat": 4,
 "nbformat_minor": 2
}
